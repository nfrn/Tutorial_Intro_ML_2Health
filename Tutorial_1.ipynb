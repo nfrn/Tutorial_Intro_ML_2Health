{
  "nbformat": 4,
  "nbformat_minor": 0,
  "metadata": {
    "colab": {
      "name": "Tutorial_1.ipynb",
      "provenance": [],
      "collapsed_sections": [],
      "include_colab_link": true
    },
    "kernelspec": {
      "name": "python3",
      "display_name": "Python 3"
    }
  },
  "cells": [
    {
      "cell_type": "markdown",
      "metadata": {
        "id": "view-in-github",
        "colab_type": "text"
      },
      "source": [
        "<a href=\"https://colab.research.google.com/github/nfrn/Tutorial_Intro_ML_2Health/blob/master/Tutorial_1.ipynb\" target=\"_parent\"><img src=\"https://colab.research.google.com/assets/colab-badge.svg\" alt=\"Open In Colab\"/></a>"
      ]
    },
    {
      "cell_type": "code",
      "metadata": {
        "id": "jk4rI_7iHNZ2",
        "colab_type": "code",
        "colab": {}
      },
      "source": [
        "!pip install keras_tqdm\n",
        "!pip install matplotlib==3.1.0"
      ],
      "execution_count": 0,
      "outputs": []
    },
    {
      "cell_type": "markdown",
      "metadata": {
        "id": "ypoA2hfRTGbH",
        "colab_type": "text"
      },
      "source": [
        "### **Breast Cancer Wisconsin (Diagnostic) Data Set**\n",
        "Processing data from:\n",
        "\n",
        "https://archive.ics.uci.edu/ml/machine-learning-databases/breast-cancer-wisconsin/\n",
        "\n",
        "We read in the data and do some basic cleanup for missing values. For the description of the fields, see :\n",
        "\n",
        "https://archive.ics.uci.edu/ml/machine-learning-databases/breast-cancer-wisconsin/wdbc.names\n",
        "\n",
        "Features were computed from a digitized image of a fine needle aspirate (FNA) of a breast mass. They describe characteristics of the cell nuclei present in the image. In summary:\n",
        "```\n",
        " Sample code number          : Id number (not used and thus dropped)\n",
        " Clump Thickness             : 1–10\n",
        " Uniformity of Cell Size     : 1–10\n",
        " Uniformity of Cell Shape    : 1–10\n",
        " Marginal Adhesion           : 1–10\n",
        " Single Epithelial Cell Size : 1–10\n",
        " Bare Nuclei                 : 1–10\n",
        " Bland Chromatin             : 1–10\n",
        " Normal Nucleoli             : 1–10\n",
        " Mitoses                     : 1–10\n",
        " Class                       : 2 for benign, 4 for malignant\n",
        "```\n",
        "\n"
      ]
    },
    {
      "cell_type": "code",
      "metadata": {
        "id": "px-Xiuafg24y",
        "colab_type": "code",
        "colab": {}
      },
      "source": [
        "import pandas as pd\n",
        "data = pd.read_csv(\"https://archive.ics.uci.edu/ml/machine-learning-databases/breast-cancer-wisconsin/breast-cancer-wisconsin.data\", header = None)\n",
        "data = data.drop(data.columns[0], axis=1)\n",
        "data.head(10)"
      ],
      "execution_count": 0,
      "outputs": []
    },
    {
      "cell_type": "markdown",
      "metadata": {
        "id": "Rm3sAtn-vNzI",
        "colab_type": "text"
      },
      "source": [
        "###**Data Cleaning and Preprocessing**"
      ]
    },
    {
      "cell_type": "code",
      "metadata": {
        "id": "9batnYVgnT_g",
        "colab_type": "code",
        "colab": {}
      },
      "source": [
        "df = pd.DataFrame(data)\n",
        "# Notice that in column 6 there are some missing values.\n",
        "print(df.loc[df[6] == \"?\"].head(5))\n",
        "\n",
        "# We calculate the mean of that feature.\n",
        "df_6_without_missing_values = df[6].loc[df[6] != \"?\"]\n",
        "mean = df_6_without_missing_values.astype(int).mean()\n",
        "print(\"Mean value: \" + str(mean))\n",
        "\n",
        "# Replace missing values with mean value\n",
        "df[6] = df[6].replace(\"?\", mean)\n",
        "df[6] = df[6].astype(int)\n",
        "\n",
        "# Re-arranging labels 2 -> 0 and 4 -> 1\n",
        "df[10] = df[10].replace(2,0).replace(4,1)"
      ],
      "execution_count": 0,
      "outputs": []
    },
    {
      "cell_type": "markdown",
      "metadata": {
        "id": "mTw9dMYnvGTE",
        "colab_type": "text"
      },
      "source": [
        "###**Exploratory Data Analysis (EDA)**"
      ]
    },
    {
      "cell_type": "code",
      "metadata": {
        "id": "EQEuEVjuszOX",
        "colab_type": "code",
        "colab": {}
      },
      "source": [
        "names = [ \"ID\", \"Clump thickness\", \"Uniformity of Cell Size\", \"Uniformity of Cell Shape\", \"Marginal Adhesion\", \"Single Epithelial Cell Size\", \"Bare Nuclei\", \"Bland Chromatin\", \"Normal Nucleoli\", \"Mitoses\", \"Class\" ]\n",
        "df.columns = names[1:]\n",
        "hists = df.hist(bins=20, figsize=(15,20))\n",
        "import matplotlib.pyplot as plt\n",
        "plt.matshow(df.corr())\n",
        "plt.show()"
      ],
      "execution_count": 0,
      "outputs": []
    },
    {
      "cell_type": "code",
      "metadata": {
        "id": "ByRXKjSAtS4x",
        "colab_type": "code",
        "colab": {}
      },
      "source": [
        "# Seaborn visualization library\n",
        "import seaborn as sns\n",
        "# Create the default pairplot\n",
        "sns.pairplot(df, hue = 'Class', diag_kind = 'kde',\n",
        "             plot_kws = {'alpha': 0.6, 's': 80, 'edgecolor': 'k'},\n",
        "             height = 4)\n",
        "\n",
        "\n",
        "# The diagonal diagrams describe\n",
        "# The other diagrams describe the relationship (or lack thereof) between two variable"
      ],
      "execution_count": 0,
      "outputs": []
    },
    {
      "cell_type": "code",
      "metadata": {
        "id": "XEdgqjAQufFN",
        "colab_type": "code",
        "colab": {}
      },
      "source": [
        ""
      ],
      "execution_count": 0,
      "outputs": []
    },
    {
      "cell_type": "code",
      "metadata": {
        "id": "5MEcNyj9UUU7",
        "colab_type": "code",
        "colab": {}
      },
      "source": [
        "# Using information from all columns (0-9) to predict target (column 10)\n",
        "X = df.iloc[:, :9]\n",
        "Y = df.iloc[:, 9]\n",
        "\n",
        "# Splitting between traning and testing\n",
        "from sklearn.model_selection import train_test_split\n",
        "X_train, X_test, Y_train, Y_test = train_test_split(X, Y, test_size = 0.2, random_state = 0)\n",
        "\n",
        "# Checking the shapes to get an understanding of the problem\n",
        "print( X_train.shape, X_test.shape )\n",
        "print( Y_train.shape, Y_test.shape )\n",
        "\n",
        "from sklearn.preprocessing import StandardScaler\n",
        "scaler = StandardScaler()\n",
        "X_train = scaler.fit_transform(X_train)\n",
        "X_test = scaler.transform(X_test)"
      ],
      "execution_count": 0,
      "outputs": []
    },
    {
      "cell_type": "code",
      "metadata": {
        "id": "DWn1_cKhw9lJ",
        "colab_type": "code",
        "colab": {}
      },
      "source": [
        "import os\n",
        "os.environ['TF_CPP_MIN_LOG_LEVEL'] = '3' \n",
        "import tensorflow.compat.v1 as tf\n",
        "\n",
        "\n",
        "from keras.models import Sequential\n",
        "from keras.layers import Dense, Dropout\n",
        "from keras_tqdm import TQDMNotebookCallback\n",
        "\n",
        "model = Sequential()\n",
        "model.add(Dense(16, input_dim=(9), activation='relu'))\n",
        "model.add(Dropout(0.2))\n",
        "model.add(Dense(32, activation='relu'))\n",
        "model.add(Dropout(0.2))\n",
        "model.add(Dense(16, activation='relu'))\n",
        "model.add(Dropout(0.2))\n",
        "model.add(Dense(1, activation='sigmoid'))\n",
        "# Compile model\n",
        "model.compile(loss='mean_squared_error', optimizer='adam', metrics=['accuracy'])\n",
        "model.summary()\n",
        "\n",
        "model.fit(X_train, Y_train,batch_size=16,validation_split=0.2, epochs=100,verbose=0,callbacks=[TQDMNotebookCallback(leave_inner=True)])\n"
      ],
      "execution_count": 0,
      "outputs": []
    },
    {
      "cell_type": "code",
      "metadata": {
        "colab_type": "code",
        "id": "dtJwonc4200T",
        "colab": {}
      },
      "source": [
        "import seaborn as sns\n",
        "import matplotlib.pyplot as plt\n",
        "from sklearn.metrics import confusion_matrix\n",
        "\n",
        "Y_pred = model.predict(X_test,verbose=0)\n",
        "Y_pred = [ 1 if y>=0.5 else 0 for y in Y_pred]\n",
        "cm = confusion_matrix(Y_test, Y_pred)\n",
        "\n",
        "df_cm = pd.DataFrame(cm, index = [\"Benign\", \"Malign\"],\n",
        "                  columns = [\"Benign\", \"Malign\"])\n",
        "plt.figure(figsize = (10,7))\n",
        "sns.set(font_scale=1.4)\n",
        "sns.heatmap(df_cm, annot=True,annot_kws={\"size\": 16})\n",
        "plt.show()\n",
        "#print(cm)"
      ],
      "execution_count": 0,
      "outputs": []
    }
  ]
}